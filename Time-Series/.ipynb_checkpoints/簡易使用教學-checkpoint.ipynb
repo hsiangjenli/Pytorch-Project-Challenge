{
 "cells": [
  {
   "cell_type": "code",
   "execution_count": 1,
   "id": "24175899",
   "metadata": {},
   "outputs": [],
   "source": [
    "from _model.myModel import *\n",
    "from _preprocessing.addFeatures import *\n",
    "\n",
    "import pandas as pd\n",
    "import copy\n",
    "\n",
    "from itertools import product\n",
    "\n",
    "dataPATH = './Data/raw-TWWI-2011To2021.csv'\n",
    "\n",
    "LR = logReturn()\n",
    "\n",
    "rawDF = pd.read_csv(dataPATH)\n",
    "windows = 5"
   ]
  },
  {
   "cell_type": "markdown",
   "id": "0218559c",
   "metadata": {},
   "source": [
    "## **Preprocessing**\n",
    "### **Transform to Log-Return**"
   ]
  },
  {
   "cell_type": "code",
   "execution_count": 2,
   "id": "12aaf3b8",
   "metadata": {},
   "outputs": [],
   "source": [
    "LR.fit(df=rawDF['發行量加權股價指數'], windows=windows)"
   ]
  },
  {
   "cell_type": "code",
   "execution_count": 122,
   "id": "2a50c092",
   "metadata": {},
   "outputs": [
    {
     "data": {
      "text/plain": [
       "0         NaN\n",
       "1   -0.003119\n",
       "2   -0.016912\n",
       "3    0.004163\n",
       "4   -0.011377\n",
       "5    0.003995\n",
       "6    0.012787\n",
       "7    0.003759\n",
       "8    0.001179\n",
       "9   -0.000342\n",
       "Name: 發行量加權股價指數, dtype: float64"
      ]
     },
     "execution_count": 122,
     "metadata": {},
     "output_type": "execute_result"
    }
   ],
   "source": [
    "LR.lr[:10] # Log-Return"
   ]
  },
  {
   "cell_type": "markdown",
   "id": "57321205",
   "metadata": {},
   "source": [
    "## **Rolling-window**"
   ]
  },
  {
   "cell_type": "code",
   "execution_count": 123,
   "id": "f8955bce",
   "metadata": {},
   "outputs": [
    {
     "data": {
      "text/plain": [
       "array([[        nan, -0.00311944, -0.01691188,  0.00416256, -0.01137682],\n",
       "       [-0.00311944, -0.01691188,  0.00416256, -0.01137682,  0.00399532],\n",
       "       [-0.01691188,  0.00416256, -0.01137682,  0.00399532,  0.0127872 ],\n",
       "       ...,\n",
       "       [-0.00011055, -0.02052372,  0.0089637 ,  0.01059873,  0.00309944],\n",
       "       [-0.02052372,  0.0089637 ,  0.01059873,  0.00309944, -0.00767241],\n",
       "       [ 0.0089637 ,  0.01059873,  0.00309944, -0.00767241, -0.01915509]])"
      ]
     },
     "execution_count": 123,
     "metadata": {},
     "output_type": "execute_result"
    }
   ],
   "source": [
    "LR.rollingX # Rolling-window Log-Return Input Features"
   ]
  },
  {
   "cell_type": "code",
   "execution_count": 124,
   "id": "2981548a",
   "metadata": {},
   "outputs": [
    {
     "data": {
      "text/plain": [
       "array([ 0.00399532,  0.0127872 ,  0.00375943, ..., -0.00767241,\n",
       "       -0.01915509,  0.00469426])"
      ]
     },
     "execution_count": 124,
     "metadata": {},
     "output_type": "execute_result"
    }
   ],
   "source": [
    "LR.rollingY # Rolling-window Log-Return Target"
   ]
  },
  {
   "cell_type": "code",
   "execution_count": 125,
   "id": "2f33e986",
   "metadata": {},
   "outputs": [
    {
     "data": {
      "text/plain": [
       "((2634, 5), (2634,), (2639,))"
      ]
     },
     "execution_count": 125,
     "metadata": {},
     "output_type": "execute_result"
    }
   ],
   "source": [
    "LR.rollingX.shape, LR.rollingY.shape, LR.lr.shape"
   ]
  },
  {
   "cell_type": "markdown",
   "id": "4de404cb",
   "metadata": {},
   "source": [
    "## **Backward to Price/Index**"
   ]
  },
  {
   "cell_type": "code",
   "execution_count": 127,
   "id": "be18c517",
   "metadata": {},
   "outputs": [
    {
     "data": {
      "text/html": [
       "<div>\n",
       "<style scoped>\n",
       "    .dataframe tbody tr th:only-of-type {\n",
       "        vertical-align: middle;\n",
       "    }\n",
       "\n",
       "    .dataframe tbody tr th {\n",
       "        vertical-align: top;\n",
       "    }\n",
       "\n",
       "    .dataframe thead th {\n",
       "        text-align: right;\n",
       "    }\n",
       "</style>\n",
       "<table border=\"1\" class=\"dataframe\">\n",
       "  <thead>\n",
       "    <tr style=\"text-align: right;\">\n",
       "      <th></th>\n",
       "      <th>y_true</th>\n",
       "      <th>y_back</th>\n",
       "    </tr>\n",
       "  </thead>\n",
       "  <tbody>\n",
       "    <tr>\n",
       "      <th>5</th>\n",
       "      <td>8817.88</td>\n",
       "      <td>NaN</td>\n",
       "    </tr>\n",
       "    <tr>\n",
       "      <th>6</th>\n",
       "      <td>8931.36</td>\n",
       "      <td>8931.36</td>\n",
       "    </tr>\n",
       "    <tr>\n",
       "      <th>7</th>\n",
       "      <td>8965.00</td>\n",
       "      <td>8965.00</td>\n",
       "    </tr>\n",
       "    <tr>\n",
       "      <th>8</th>\n",
       "      <td>8975.58</td>\n",
       "      <td>8975.58</td>\n",
       "    </tr>\n",
       "    <tr>\n",
       "      <th>9</th>\n",
       "      <td>8972.51</td>\n",
       "      <td>8972.51</td>\n",
       "    </tr>\n",
       "    <tr>\n",
       "      <th>...</th>\n",
       "      <td>...</td>\n",
       "      <td>...</td>\n",
       "    </tr>\n",
       "    <tr>\n",
       "      <th>2634</th>\n",
       "      <td>17260.19</td>\n",
       "      <td>17260.19</td>\n",
       "    </tr>\n",
       "    <tr>\n",
       "      <th>2635</th>\n",
       "      <td>17313.77</td>\n",
       "      <td>17313.77</td>\n",
       "    </tr>\n",
       "    <tr>\n",
       "      <th>2636</th>\n",
       "      <td>17181.44</td>\n",
       "      <td>17181.44</td>\n",
       "    </tr>\n",
       "    <tr>\n",
       "      <th>2637</th>\n",
       "      <td>16855.46</td>\n",
       "      <td>16855.46</td>\n",
       "    </tr>\n",
       "    <tr>\n",
       "      <th>2638</th>\n",
       "      <td>16934.77</td>\n",
       "      <td>16934.77</td>\n",
       "    </tr>\n",
       "  </tbody>\n",
       "</table>\n",
       "<p>2634 rows × 2 columns</p>\n",
       "</div>"
      ],
      "text/plain": [
       "        y_true    y_back\n",
       "5      8817.88       NaN\n",
       "6      8931.36   8931.36\n",
       "7      8965.00   8965.00\n",
       "8      8975.58   8975.58\n",
       "9      8972.51   8972.51\n",
       "...        ...       ...\n",
       "2634  17260.19  17260.19\n",
       "2635  17313.77  17313.77\n",
       "2636  17181.44  17181.44\n",
       "2637  16855.46  16855.46\n",
       "2638  16934.77  16934.77\n",
       "\n",
       "[2634 rows x 2 columns]"
      ]
     },
     "execution_count": 127,
     "metadata": {},
     "output_type": "execute_result"
    }
   ],
   "source": [
    "pd.DataFrame(\n",
    "    \n",
    "    {\n",
    "        \n",
    "        'y_true': rawDF['發行量加權股價指數'][windows:],\n",
    "        'y_back': LR.backwardR(logR=LR.rollingY, pred=True)\n",
    "        \n",
    "    }\n",
    "\n",
    ")"
   ]
  }
 ],
 "metadata": {
  "kernelspec": {
   "display_name": "Python 3 (ipykernel)",
   "language": "python",
   "name": "python3"
  },
  "language_info": {
   "codemirror_mode": {
    "name": "ipython",
    "version": 3
   },
   "file_extension": ".py",
   "mimetype": "text/x-python",
   "name": "python",
   "nbconvert_exporter": "python",
   "pygments_lexer": "ipython3",
   "version": "3.9.7"
  }
 },
 "nbformat": 4,
 "nbformat_minor": 5
}
